{
 "cells": [
  {
   "cell_type": "markdown",
   "id": "9bf506c6",
   "metadata": {},
   "source": [
    "# Introduction aux Tests Unitaires\n",
    "\n",
    "\n",
    "\n",
    "Les tests unitaires sont une pratique fondamentale dans le développement logiciel visant à vérifier individuellement les composants les plus petits d'un programme, souvent les fonctions ou méthodes. L'objectif principal des tests unitaires est de s'assurer que chaque unité du logiciel fonctionne comme prévu, en isolant et en testant chaque morceau de code de manière indépendante.\n",
    "\n",
    "Voici quelques points clés concernant les tests unitaires et leur rôle dans le développement logiciel :\n",
    "\n",
    "\n",
    "## 1. Définition d'un test unitaire :\n",
    "\n",
    "Un test unitaire est une procédure automatisée qui vérifie le bon fonctionnement d'une unité spécifique de code.\n",
    "L'unité peut être une fonction, une méthode, ou même une classe, selon la granularité choisie.\n",
    "\n",
    "## 2. Rôle dans le développement logiciel :\n",
    "### 2.1-Validation de la fonctionnalité :\n",
    "\n",
    "Les tests unitaires garantissent que chaque composant du logiciel fonctionne correctement selon les spécifications.Les tests unitaires visent à valider chaque composant individuel du logiciel. Ils permettent de s'assurer que chaque fonctionnalité, classe ou méthode fonctionne conformément aux spécifications définies. En effectuant des tests unitaires, les développeurs peuvent vérifier que chaque unité de code produit les résultats attendus et s'intègre correctement dans le système global. Cela garantit la qualité des fonctionnalités dès le stade initial du développement.\n",
    "\n",
    "### 2.2-Détection des erreurs : \n",
    "\n",
    "En identifiant les erreurs au niveau des unités individuelles, les développeurs peuvent les corriger avant qu'elles ne deviennent des problèmes plus importants.Les tests unitaires sont conçus pour identifier les erreurs au niveau des unités individuelles de code. En détectant les erreurs au plus tôt, souvent pendant la phase de développement, les développeurs peuvent corriger ces problèmes avant qu'ils ne se propagent à d'autres parties du système. Cette approche préventive permet de réduire le coût et la complexité de la correction des erreurs à mesure que le projet progresse.\n",
    "\n",
    "### 2.3-Facilitation de la maintenance : \n",
    "\n",
    "Les tests unitaires servent de documentation vivante et aident à garantir que des modifications ultérieures ne rompent pas les fonctionnalités existantes.Les tests unitaires servent également de documentation vivante pour le code. En décrivant comment chaque unité du logiciel est censée fonctionner, ils offrent une référence instantanée pour les développeurs travaillant sur le code existant. Cela facilite la maintenance continue en permettant aux développeurs de comprendre rapidement le comportement attendu de chaque composant. De plus, lorsque des modifications sont apportées au code, les tests unitaires permettent de vérifier rapidement que les modifications n'ont pas rompu les fonctionnalités existantes. Cela contribue à prévenir les régressions et à maintenir la stabilité du logiciel au fil du temps.\n",
    "\n",
    "## 3. Importance des tests automatisés :\n",
    "\n",
    "### 3.1-Répétabilité :\n",
    "Les tests automatisés peuvent être exécutés à plusieurs reprises avec un simple déclenchement, garantissant une vérification constante du code.La répétabilité des tests automatisés signifie que vous pouvez les exécuter de manière cohérente et identique chaque fois que vous en avez besoin. Cela garantit une vérification constante du code, ce qui est crucial pour assurer la stabilité et la fiabilité du logiciel. La capacité à exécuter des tests de manière répétable est particulièrement importante lors du développement de logiciels complexes, car elle permet de détecter rapidement les éventuels problèmes ou régressions\n",
    "\n",
    "### 3.2-Économie de temps : \n",
    "Les tests automatisés permettent d'identifier rapidement les régressions sans nécessiter une intervention manuelle fréquente.Plutôt que de compter uniquement sur des tests manuels, qui peuvent être laborieux et sujets à des erreurs humaines, les tests automatisés peuvent être exécutés rapidement et efficacement à chaque modification du code. Cela permet aux équipes de développement de gagner du temps en automatisant des tâches répétitives, tout en assurant une couverture exhaustive des tests.\n",
    "### 3.3-Intégration continue : \n",
    "Ils sont essentiels dans un environnement d'intégration continue, où le code est intégré fréquemment et automatiquement testé.L'intégration continue (CI) est une pratique de développement où les modifications de code sont intégrées fréquemment dans un référentiel central, suivi d'une suite automatisée de tests. Les tests automatisés sont essentiels dans un environnement d'intégration continue, car ils garantissent que chaque modification du code est rapidement évaluée pour détecter d'éventuels problèmes. Cela permet une détection précoce des erreurs, favorise la livraison continue et assure la qualité du logiciel à chaque étape du développeme\n",
    "\n",
    "## 4. Les trois phases d'un test unitaire :\n",
    " \n",
    "   ### 1-SetUp : Configuration nécessaire avant l'exécution du test.\n",
    "   \n",
    "   #### Objectif :\n",
    "   Prépare l'environnement nécessaire à l'exécution du test.\n",
    "   #### Actions typiques : \n",
    "   Initialisation d'objets, configuration d'états, allocation de ressources, etc.\n",
    "   #### Utilité : \n",
    "   Assure que le contexte dans lequel le test s'exécute est correctement configuré. Cela garantit que le code à tester              opère dans des conditions spécifiées.\n",
    "   \n",
    "   ### 2-Test : Exécution du code que vous souhaitez tester.\n",
    "   \n",
    "   #### Objectif : \n",
    "   Exécution du code que vous souhaitez tester.\n",
    "   #### Actions typiques : \n",
    "   Appels de méthodes, manipulation de données, etc.\n",
    "   #### Utilité : \n",
    "   Évalue le comportement du code par rapport à ce qui est attendu. Les résultats et les états produits pendant cette phase sont    examinés pour déterminer si le code fonctionne correctement.\n",
    "   \n",
    "   ### 3-TearDown : Nettoyage après l'exécution du test.\n",
    "   #### Objectif : \n",
    "   Effectuer des opérations de nettoyage après l'exécution du test.\n",
    "   #### Actions typiques : \n",
    "   Libération de ressources, réinitialisation d'états, etc.\n",
    "   #### Utilité : \n",
    "   Garantit que l'environnement du test est restauré à son état initial, indépendamment du résultat du test. Cela prépare          l'environnement pour l'exécution d'autres tests et contribue à maintenir la reproductibilité des tests.\n",
    "   \n",
    "   Ces trois phases suivent le principe Arrange-Act-Assert (ou Given-When-Then) qui est une pratique courante dans le domaine       des tests.\n",
    "\n",
    "    Arrange (SetUp) : Configure l'état initial du système.\n",
    "    Act (Test) : Exécute le code à tester.\n",
    "    Assert (TearDown) : Vérifie que le comportement du code est conforme aux attentes, puis nettoie l'environnement.\n",
    "     \n",
    "   Cette approche structurée facilite la création de tests cohérents, reproductibles et faciles à comprendre, tout en assurant une gestion appropriée des ressources et de l'état du système.\n",
    "   \n",
    "   \n",
    "   \n",
    "   \n",
    "\n",
    "## 5. Frameworks de test :\n",
    "\n",
    "Les frameworks de test, tels que unittest en Python, facilitent la création, l'organisation et l'exécution des tests unitaires.\n",
    "\n",
    "\n",
    "En résumé, les tests unitaires jouent un rôle crucial dans le processus de développement logiciel en garantissant la qualité du code et en facilitant la maintenance continue. Les tests automatisés sont particulièrement essentiels pour maintenir l'efficacité du processus de développement, en permettant une vérification rapide et systématique du code.\n",
    "\n",
    "\n",
    "\n",
    "\n",
    "\n",
    "\n"
   ]
  },
  {
   "cell_type": "markdown",
   "id": "74fea711",
   "metadata": {},
   "source": [
    "# Mise en place de l'environnement\n",
    "\n",
    "#### 1-Installez pytest si nécessaire.\n",
    "\n"
   ]
  },
  {
   "cell_type": "code",
   "execution_count": 1,
   "id": "d1d185a8",
   "metadata": {},
   "outputs": [
    {
     "name": "stdout",
     "output_type": "stream",
     "text": [
      "Requirement already satisfied: pytest in c:\\users\\hmada\\anaconda3\\lib\\site-packages (7.4.4)\n",
      "Requirement already satisfied: iniconfig in c:\\users\\hmada\\anaconda3\\lib\\site-packages (from pytest) (1.1.1)\n",
      "Requirement already satisfied: packaging in c:\\users\\hmada\\anaconda3\\lib\\site-packages (from pytest) (24.1)\n",
      "Requirement already satisfied: pluggy<2.0,>=0.12 in c:\\users\\hmada\\anaconda3\\lib\\site-packages (from pytest) (1.0.0)\n",
      "Requirement already satisfied: colorama in c:\\users\\hmada\\anaconda3\\lib\\site-packages (from pytest) (0.4.6)\n"
     ]
    }
   ],
   "source": [
    "!pip install pytest"
   ]
  },
  {
   "cell_type": "markdown",
   "id": "0c16dcd2",
   "metadata": {},
   "source": [
    "#### 2-Importez la bibliothèque de tests unittest."
   ]
  },
  {
   "cell_type": "code",
   "execution_count": 3,
   "id": "21fa43f5",
   "metadata": {},
   "outputs": [],
   "source": [
    "import unittest"
   ]
  },
  {
   "cell_type": "markdown",
   "id": "daff8641",
   "metadata": {},
   "source": [
    "#### 3-Écriture du premier test unitaire"
   ]
  },
  {
   "cell_type": "code",
   "execution_count": 13,
   "id": "0178163a",
   "metadata": {},
   "outputs": [
    {
     "ename": "AssertionError",
     "evalue": "Le résultat attendu est 12 , mais le résultat obtenu est 11",
     "output_type": "error",
     "traceback": [
      "\u001b[1;31m---------------------------------------------------------------------------\u001b[0m",
      "\u001b[1;31mAssertionError\u001b[0m                            Traceback (most recent call last)",
      "Cell \u001b[1;32mIn[13], line 16\u001b[0m\n\u001b[0;32m     13\u001b[0m     \u001b[38;5;28;01massert\u001b[39;00m result \u001b[38;5;241m==\u001b[39m \u001b[38;5;241m12\u001b[39m ,\u001b[38;5;124mf\u001b[39m\u001b[38;5;124m\"\u001b[39m\u001b[38;5;124mLe résultat attendu est 12 , mais le résultat obtenu est \u001b[39m\u001b[38;5;132;01m{\u001b[39;00mresult\u001b[38;5;132;01m}\u001b[39;00m\u001b[38;5;124m\"\u001b[39m\n\u001b[0;32m     15\u001b[0m \u001b[38;5;66;03m# Créez une suite de tests et exécutez-les.\u001b[39;00m\n\u001b[1;32m---> 16\u001b[0m test_addition()\n\u001b[0;32m     17\u001b[0m \u001b[38;5;28mprint\u001b[39m(\u001b[38;5;124m\"\u001b[39m\u001b[38;5;124mTest terminé ..... \u001b[39m\u001b[38;5;124m\"\u001b[39m)\n",
      "Cell \u001b[1;32mIn[13], line 13\u001b[0m, in \u001b[0;36mtest_addition\u001b[1;34m()\u001b[0m\n\u001b[0;32m     11\u001b[0m \u001b[38;5;28;01massert\u001b[39;00m result \u001b[38;5;241m==\u001b[39m \u001b[38;5;241m7\u001b[39m ,\u001b[38;5;124mf\u001b[39m\u001b[38;5;124m\"\u001b[39m\u001b[38;5;124mLe résultat attendu est 8 , mais le résultat obtenu est \u001b[39m\u001b[38;5;132;01m{\u001b[39;00mresult\u001b[38;5;132;01m}\u001b[39;00m\u001b[38;5;124m\"\u001b[39m\n\u001b[0;32m     12\u001b[0m result \u001b[38;5;241m=\u001b[39m addition(\u001b[38;5;241m3\u001b[39m,\u001b[38;5;241m9\u001b[39m)\n\u001b[1;32m---> 13\u001b[0m \u001b[38;5;28;01massert\u001b[39;00m result \u001b[38;5;241m==\u001b[39m \u001b[38;5;241m12\u001b[39m ,\u001b[38;5;124mf\u001b[39m\u001b[38;5;124m\"\u001b[39m\u001b[38;5;124mLe résultat attendu est 12 , mais le résultat obtenu est \u001b[39m\u001b[38;5;132;01m{\u001b[39;00mresult\u001b[38;5;132;01m}\u001b[39;00m\u001b[38;5;124m\"\u001b[39m\n",
      "\u001b[1;31mAssertionError\u001b[0m: Le résultat attendu est 12 , mais le résultat obtenu est 11"
     ]
    }
   ],
   "source": [
    "# Créez une fonction simple à tester.\n",
    "def addition(a,b):\n",
    "    return a + b-1\n",
    "\n",
    "# TDD : développement dirigé par les test (Test Driven Devloppement).\n",
    "# Écrivez une méthode de test pour la fonction addition.\n",
    "def test_addition():\n",
    "    # appeler la fonction à tester\n",
    "    result = addition(3,5)\n",
    "    # Assertion pour vérifier si le résultat est au résultat attendu\n",
    "    assert result == 7 ,f\"Le résultat attendu est 8 , mais le résultat obtenu est {result}\"\n",
    "    result = addition(3,9)\n",
    "    assert result == 12 ,f\"Le résultat attendu est 12 , mais le résultat obtenu est {result}\"\n",
    "\n",
    "# Créez une suite de tests et exécutez-les.\n",
    "test_addition()\n",
    "print(\"Test terminé ..... \")\n"
   ]
  },
  {
   "cell_type": "markdown",
   "id": "e4d1a3e8",
   "metadata": {},
   "source": [
    "#### 4-Exécution des tests"
   ]
  },
  {
   "cell_type": "code",
   "execution_count": 15,
   "id": "27584ed5-2a14-4797-8757-0f347fa93460",
   "metadata": {},
   "outputs": [
    {
     "name": "stdout",
     "output_type": "stream",
     "text": [
      "Test terminé ..... \n"
     ]
    }
   ],
   "source": [
    "# Créez une fonction simple à tester.\n",
    "def addition(a, b):\n",
    "    return a + b  # Correction ici : on enlève le -1\n",
    "\n",
    "# TDD : développement dirigé par les tests (Test Driven Development).\n",
    "# Écrivez une méthode de test pour la fonction addition.\n",
    "def test_addition():\n",
    "    # appeler la fonction à tester\n",
    "    result = addition(3, 5)\n",
    "    # Assertion pour vérifier si le résultat est au résultat attendu\n",
    "    assert result == 8, f\"Le résultat attendu est 8, mais le résultat obtenu est {result}\"\n",
    "    \n",
    "    result = addition(3, 9)\n",
    "    assert result == 12, f\"Le résultat attendu est 12, mais le résultat obtenu est {result}\"\n",
    "\n",
    "# Créez une suite de tests et exécutez-les.\n",
    "test_addition()\n",
    "print(\"Test terminé ..... \")\n"
   ]
  },
  {
   "cell_type": "code",
   "execution_count": 1,
   "id": "0ec9bab0",
   "metadata": {},
   "outputs": [],
   "source": [
    "# Créez une suite de tests et exécutez-les.\n",
    " \n"
   ]
  },
  {
   "cell_type": "markdown",
   "id": "b4e28060",
   "metadata": {},
   "source": [
    "## Test unitaire pour la fonction add en utulisant la classe TestCase de unittest"
   ]
  },
  {
   "cell_type": "code",
   "execution_count": 23,
   "id": "abe660eb",
   "metadata": {},
   "outputs": [
    {
     "name": "stderr",
     "output_type": "stream",
     "text": [
      ".\n",
      "----------------------------------------------------------------------\n",
      "Ran 1 test in 0.001s\n",
      "\n",
      "OK\n"
     ]
    },
    {
     "data": {
      "text/plain": [
       "<unittest.runner.TextTestResult run=1 errors=0 failures=0>"
      ]
     },
     "execution_count": 23,
     "metadata": {},
     "output_type": "execute_result"
    }
   ],
   "source": [
    "import unittest\n",
    "\n",
    "# Fonction à tester\n",
    "def addition(a, b):\n",
    "    return a + b\n",
    "\n",
    "# Classe de test\n",
    "class TestAddition(unittest.TestCase):  # Il manquait \"class\" au début\n",
    "    # Définition du code de la méthode de test\n",
    "    def test_addition(self):\n",
    "        # Assertions pour vérifier si le résultat est conforme à ce qui est attendu\n",
    "        self.assertEqual(addition(2, 3), 5)\n",
    "        self.assertEqual(addition(7, 8), 15)\n",
    "        self.assertEqual(addition(9, 3), 12)\n",
    "\n",
    "# Définition d’un objet de test\n",
    "test_addition = unittest.TestLoader().loadTestsFromTestCase(TestAddition)\n",
    "\n",
    "# Exécution du test\n",
    "unittest.TextTestRunner().run(test_addition)\n"
   ]
  },
  {
   "cell_type": "markdown",
   "id": "a6619c95",
   "metadata": {},
   "source": [
    "# Test unitaire pour la fonction sub sans utiliser une classe de test"
   ]
  },
  {
   "cell_type": "code",
   "execution_count": 5,
   "id": "9dc0b76c",
   "metadata": {},
   "outputs": [
    {
     "name": "stdout",
     "output_type": "stream",
     "text": [
      "Tous les tests ont réussi \n"
     ]
    }
   ],
   "source": [
    "import unittest\n",
    "\n",
    "def sub(a, b):\n",
    "    return a - b\n",
    "\n",
    "# Fonctions de test individuelles\n",
    "def test_sub_positive():\n",
    "    assert sub(5, 3) == 2\n",
    "\n",
    "def test_sub_negative():\n",
    "    assert sub(3, 5) == -2\n",
    "\n",
    "def test_sub_zero():\n",
    "    assert sub(0, 0) == 0\n",
    "\n",
    "def test_sub_mixed():\n",
    "    assert sub(-5, 5) == -10\n",
    "\n",
    "if __name__ == \"__main__\":\n",
    "    test_sub_positive()\n",
    "    test_sub_negative()\n",
    "    test_sub_zero()\n",
    "    test_sub_mixed()\n",
    "    print(\"Tous les tests ont réussi \")"
   ]
  },
  {
   "cell_type": "markdown",
   "id": "7d3e23f2",
   "metadata": {},
   "source": [
    "## Exercice 1: Écrire des tests pour la fonction mutiplication"
   ]
  },
  {
   "cell_type": "code",
   "execution_count": 8,
   "id": "6be2c369",
   "metadata": {},
   "outputs": [
    {
     "name": "stdout",
     "output_type": "stream",
     "text": [
      "Tous les tests sont passés \n"
     ]
    }
   ],
   "source": [
    "# Fonction à tester\n",
    "def multiplaction(a, b):\n",
    "    return a * b\n",
    "\n",
    "# Tests simples sans utiliser unittest.TestCase\n",
    "def test_multiplaction_positive():\n",
    "    assert multiplaction(3, 4) == 12\n",
    "\n",
    "def test_multiplaction_zero():\n",
    "    assert multiplaction(0, 5) == 0\n",
    "\n",
    "def test_multiplaction_negative():\n",
    "    assert multiplaction(-3, 4) == -12\n",
    "\n",
    "def test_multiplaction_both_negative():\n",
    "    assert multiplaction(-2, -5) == 10\n",
    "\n",
    "def test_multiplaction_float():\n",
    "    assert multiplaction(2.5, 4) == 10.0\n",
    "\n",
    "if __name__ == \"__main__\":\n",
    "    test_multiplaction_positive()\n",
    "    test_multiplaction_zero()\n",
    "    test_multiplaction_negative()\n",
    "    test_multiplaction_both_negative()\n",
    "    test_multiplaction_float()\n",
    "    print(\"Tous les tests sont passés \")\n"
   ]
  },
  {
   "cell_type": "code",
   "execution_count": null,
   "id": "c8257763",
   "metadata": {},
   "outputs": [],
   "source": []
  },
  {
   "cell_type": "markdown",
   "id": "27b6c6dc",
   "metadata": {},
   "source": [
    "## Exercice 2: Écrire des tests pour une nouvelle fonction"
   ]
  },
  {
   "cell_type": "code",
   "execution_count": 10,
   "id": "4a62748d",
   "metadata": {},
   "outputs": [
    {
     "name": "stdout",
     "output_type": "stream",
     "text": [
      "Tous les tests sont passés ✅\n"
     ]
    }
   ],
   "source": [
    "# Code de la fonction à tester\n",
    "def puissance(a, b):\n",
    "\n",
    "    return a ** b\n",
    "\n",
    "# Tests unitaires simples\n",
    "def test_puissance_positive():\n",
    "    assert puissance(2, 3) == 8\n",
    "\n",
    "def test_puissance_zero_exposant():\n",
    "    assert puissance(5, 0) == 1\n",
    "\n",
    "def test_puissance_zero_base():\n",
    "    assert puissance(0, 5) == 0\n",
    "\n",
    "def test_puissance_negative_exposant():\n",
    "    assert puissance(2, -2) == 0.25\n",
    "\n",
    "def test_puissance_negative_base():\n",
    "    assert puissance(-2, 3) == -8\n",
    "    assert puissance(-2, 2) == 4\n",
    "\n",
    "def test_puissance_float():\n",
    "    assert round(puissance(9, 0.5), 5) == 3.0  # Racine carrée\n",
    "\n",
    "if __name__ == \"__main__\":\n",
    "    test_puissance_positive()\n",
    "    test_puissance_zero_exposant()\n",
    "    test_puissance_zero_base()\n",
    "    test_puissance_negative_exposant()\n",
    "    test_puissance_negative_base()\n",
    "    test_puissance_float()\n",
    "    print(\"Tous les tests sont passés ✅\")\n"
   ]
  },
  {
   "cell_type": "code",
   "execution_count": null,
   "id": "845a546f",
   "metadata": {},
   "outputs": [],
   "source": []
  },
  {
   "cell_type": "markdown",
   "id": "c4e3fd06",
   "metadata": {},
   "source": [
    "## Exercice 3: Écrire des tests pour une nouvelle fonction"
   ]
  },
  {
   "cell_type": "code",
   "execution_count": 19,
   "id": "76d51f70",
   "metadata": {},
   "outputs": [],
   "source": [
    "# Code de la fonction à tester : pour calculer la somme des nombres inferieurs à n \n",
    "def somme_entiers_inferieurs(n):\n",
    "    \n",
    "    return somme"
   ]
  },
  {
   "cell_type": "code",
   "execution_count": 21,
   "id": "38f20192-c92d-4c26-831b-99fa85cd98b4",
   "metadata": {},
   "outputs": [
    {
     "name": "stdout",
     "output_type": "stream",
     "text": [
      "Tous les tests sont passés ✅\n"
     ]
    }
   ],
   "source": [
    "# Fonction à tester\n",
    "def somme_entiers_inferieurs(n):\n",
    "    return sum(range(n))\n",
    "\n",
    "# Tests unitaires\n",
    "def test_somme_entiers_positive():\n",
    "    assert somme_entiers_inferieurs(5) == 10  # 0 + 1 + 2 + 3 + 4\n",
    "\n",
    "def test_somme_entiers_zero():\n",
    "    assert somme_entiers_inferieurs(0) == 0\n",
    "\n",
    "def test_somme_entiers_un():\n",
    "    assert somme_entiers_inferieurs(1) == 0\n",
    "\n",
    "def test_somme_entiers_negative():\n",
    "    assert somme_entiers_inferieurs(-3) == 0  # range(-3) est vide\n",
    "\n",
    "if __name__ == \"__main__\":\n",
    "    test_somme_entiers_positive()\n",
    "    test_somme_entiers_zero()\n",
    "    test_somme_entiers_un()\n",
    "    test_somme_entiers_negative()\n",
    "    print(\"Tous les tests sont passés ✅\")\n"
   ]
  },
  {
   "cell_type": "code",
   "execution_count": null,
   "id": "421b0992",
   "metadata": {},
   "outputs": [],
   "source": []
  },
  {
   "cell_type": "markdown",
   "id": "69851f54",
   "metadata": {},
   "source": [
    "## Exercice 4: Écrire des tests pour la fonction factorielle :\n",
    "\n",
    "- Implémenter la fonction\n",
    "\n",
    "- Gérer les cas limites : n = 0, n négatif\n",
    "\n",
    "- Écrire les tests\n"
   ]
  },
  {
   "cell_type": "code",
   "execution_count": 25,
   "id": "4a0914de",
   "metadata": {},
   "outputs": [
    {
     "name": "stdout",
     "output_type": "stream",
     "text": [
      "Tous les tests sont passés ✅\n"
     ]
    }
   ],
   "source": [
    "def factorielle(n):\n",
    "    \"\"\"\n",
    "    Calcule la factorielle d'un nombre entier positif n.\n",
    "    \n",
    "    Args:\n",
    "    n (int): Nombre entier positif.\n",
    "    \n",
    "    Returns:\n",
    "    int: Factorielle de n.\n",
    "    \"\"\"\n",
    "    if n < 0:\n",
    "        raise ValueError(\"La factorielle n'est pas définie pour les entiers négatifs.\")\n",
    "    \n",
    "    result = 1\n",
    "    for i in range(2, n + 1):\n",
    "        result *= i\n",
    "    return result\n",
    "#Tests unitaires sans classe pour la fonction\n",
    "\n",
    "def test_factorielle_positive():\n",
    "    assert factorielle(5) == 120  # 5! = 5*4*3*2*1\n",
    "\n",
    "def test_factorielle_zero():\n",
    "    assert factorielle(0) == 1    # 0! = 1\n",
    "\n",
    "def test_factorielle_un():\n",
    "    assert factorielle(1) == 1    # 1! = 1\n",
    "\n",
    "def test_factorielle_negative():\n",
    "    try:\n",
    "        factorielle(-3)\n",
    "        assert False, \"Une exception aurait dû être levée pour n négatif\"\n",
    "    except ValueError:\n",
    "        pass  # C'est le comportement attendu\n",
    "\n",
    "if __name__ == \"__main__\":\n",
    "    test_factorielle_positive()\n",
    "    test_factorielle_zero()\n",
    "    test_factorielle_un()\n",
    "    test_factorielle_negative()\n",
    "    print(\"Tous les tests sont passés ✅\")\n"
   ]
  },
  {
   "cell_type": "markdown",
   "id": "e468a96b-e07c-483d-90aa-62b1145217f9",
   "metadata": {},
   "source": [
    "## Exercice 5: Écrire des tests pour les fonctions suivantes:\n",
    "\n",
    "##### créer un module string_utils.py et implémenter les fonctions suivantes :\n",
    "- est_palindrome(chaine) : Vérifier si une chaîne de caractères est un palindrome (c’est-à-dire qu’elle se lit de la même façon de gauche à droite que de droite à gauche par exemple le mot RADAR).\n",
    "\n",
    "- inverser_chaine(chaine) :Retourner l’inverse d’une chaîne de caractères.  \n",
    "\n",
    "- compter_voyelles(chaine):Compter le nombre de voyelles (a, e, i, o, u, y) dans une chaîne, en ignorant la casse. \n"
   ]
  },
  {
   "cell_type": "code",
   "execution_count": 27,
   "id": "c6f5866f",
   "metadata": {},
   "outputs": [
    {
     "ename": "ModuleNotFoundError",
     "evalue": "No module named 'string_utils'",
     "output_type": "error",
     "traceback": [
      "\u001b[1;31m---------------------------------------------------------------------------\u001b[0m",
      "\u001b[1;31mModuleNotFoundError\u001b[0m                       Traceback (most recent call last)",
      "Cell \u001b[1;32mIn[27], line 25\u001b[0m\n\u001b[0;32m     21\u001b[0m     \u001b[38;5;28;01mreturn\u001b[39;00m \u001b[38;5;28msum\u001b[39m(\u001b[38;5;241m1\u001b[39m \u001b[38;5;28;01mfor\u001b[39;00m c \u001b[38;5;129;01min\u001b[39;00m chaine\u001b[38;5;241m.\u001b[39mlower() \u001b[38;5;28;01mif\u001b[39;00m c \u001b[38;5;129;01min\u001b[39;00m voyelles)\n\u001b[0;32m     23\u001b[0m \u001b[38;5;66;03m#Fichier de tests sans classe (par ex. test_string_utils.py)\u001b[39;00m\n\u001b[0;32m     24\u001b[0m \u001b[38;5;66;03m# test_string_utils.py\u001b[39;00m\n\u001b[1;32m---> 25\u001b[0m \u001b[38;5;28;01mfrom\u001b[39;00m \u001b[38;5;21;01mstring_utils\u001b[39;00m \u001b[38;5;28;01mimport\u001b[39;00m est_palindrome, inverser_chaine, compter_voyelles\n\u001b[0;32m     27\u001b[0m \u001b[38;5;28;01mdef\u001b[39;00m \u001b[38;5;21mtest_est_palindrome\u001b[39m():\n\u001b[0;32m     28\u001b[0m     \u001b[38;5;28;01massert\u001b[39;00m est_palindrome(\u001b[38;5;124m\"\u001b[39m\u001b[38;5;124mRadar\u001b[39m\u001b[38;5;124m\"\u001b[39m) \u001b[38;5;241m==\u001b[39m \u001b[38;5;28;01mTrue\u001b[39;00m\n",
      "\u001b[1;31mModuleNotFoundError\u001b[0m: No module named 'string_utils'"
     ]
    }
   ],
   "source": [
    "# string_utils.py\n",
    "\n",
    "def est_palindrome(chaine):\n",
    "    \"\"\"\n",
    "    Vérifie si une chaîne est un palindrome (insensible à la casse).\n",
    "    \"\"\"\n",
    "    chaine_normalisee = chaine.lower()\n",
    "    return chaine_normalisee == chaine_normalisee[::-1]\n",
    "\n",
    "def inverser_chaine(chaine):\n",
    "    \"\"\"\n",
    "    Retourne l'inverse d'une chaîne de caractères.\n",
    "    \"\"\"\n",
    "    return chaine[::-1]\n",
    "\n",
    "def compter_voyelles(chaine):\n",
    "    \"\"\"\n",
    "    Compte le nombre de voyelles dans une chaîne, sans tenir compte de la casse.\n",
    "    \"\"\"\n",
    "    voyelles = \"aeiouy\"\n",
    "    return sum(1 for c in chaine.lower() if c in voyelles)\n",
    "\n",
    "#Fichier de tests sans classe (par ex. test_string_utils.py)\n",
    "# test_string_utils.py\n",
    "from string_utils import est_palindrome, inverser_chaine, compter_voyelles\n",
    "\n",
    "def test_est_palindrome():\n",
    "    assert est_palindrome(\"Radar\") == True\n",
    "    assert est_palindrome(\"Bonjour\") == False\n",
    "    assert est_palindrome(\"kayak\") == True\n",
    "    assert est_palindrome(\"\") == True  # chaîne vide est un palindrome\n",
    "\n",
    "def test_inverser_chaine():\n",
    "    assert inverser_chaine(\"hello\") == \"olleh\"\n",
    "    assert inverser_chaine(\"a\") == \"a\"\n",
    "    assert inverser_chaine(\"\") == \"\"\n",
    "\n",
    "def test_compter_voyelles():\n",
    "    assert compter_voyelles(\"Bonjour\") == 3  # o, u, o\n",
    "    assert compter_voyelles(\"YOGA\") == 3     # y, o, a\n",
    "    assert compter_voyelles(\"bcdfg\") == 0\n",
    "    assert compter_voyelles(\"\") == 0\n",
    "\n",
    "if __name__ == \"__main__\":\n",
    "    test_est_palindrome()\n",
    "    test_inverser_chaine()\n",
    "    test_compter_voyelles()\n",
    "    print(\"Tous les tests des fonctions string_utils sont passés ✅\")\n"
   ]
  },
  {
   "cell_type": "code",
   "execution_count": null,
   "id": "133aac1c-d262-4c5e-878d-2c9aeabae2bf",
   "metadata": {},
   "outputs": [],
   "source": []
  }
 ],
 "metadata": {
  "kernelspec": {
   "display_name": "Python [conda env:base] *",
   "language": "python",
   "name": "conda-base-py"
  },
  "language_info": {
   "codemirror_mode": {
    "name": "ipython",
    "version": 3
   },
   "file_extension": ".py",
   "mimetype": "text/x-python",
   "name": "python",
   "nbconvert_exporter": "python",
   "pygments_lexer": "ipython3",
   "version": "3.12.7"
  }
 },
 "nbformat": 4,
 "nbformat_minor": 5
}
